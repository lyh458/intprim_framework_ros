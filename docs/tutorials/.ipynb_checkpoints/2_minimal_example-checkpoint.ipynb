{
 "cells": [
  {
   "cell_type": "markdown",
   "metadata": {},
   "source": [
    "# Minimal Example\n",
    "In this tutorial, we will demonstrate a minimum example of training and testing a robot that was used in previous experiments. This experiment consisted of a human and robot moving a box. Included are the csv files that can be used to learn this interaction."
   ]
  },
  {
   "cell_type": "markdown",
   "metadata": {},
   "source": [
    "# 1.1 Joe does example of 50 .csv files for the box robot - GUI stuff below"
   ]
  },
  {
   "cell_type": "markdown",
   "metadata": {
    "ein.tags": "worksheet-0",
    "slideshow": {
     "slide_type": "-"
    }
   },
   "source": [
    "## **2.1 Training** - Converting rosbags to CSV\n",
    "1. The Interactive Application is started and the user selects an experiment followed by the \"Train\" option.\n",
    "\n",
    "```\n",
    "Please select a scenario category:\n",
    "    [0] Train\n",
    "    [1] Test\n",
    "```\n",
    "2. The data can be exported either to a rosbag (recommended) or a CSV file. It is always recommended to choose rosbag to save the raw data, as it can always be later exported to a CSV. Exporting directly to CSV may cause information loss if the user-specified observation frequency is less than a sensor's sampling frequency.\n",
    "\n",
    "```\n",
    "Please select a scenario action:\n",
    "  [0] Export data to rosbag\n",
    "  [1] Export data to csv\n",
    "  [2] Export data to csv from rosbag\n",
    "  [3] Delete last rosbag\n",
    "```\n",
    "\n",
    "3. If export to a rosbag is selected, the experiment can be triggered via the space bar which will then begin recording. The experiment will stop when either the timeout specified in experiments.yaml is reached or the space bar is pressed.\n",
    "\n",
    "```\n",
    "Prepare to execute arbitrary trajectory...\n",
    "Please get ready and press [space] to begin demonstration.\n",
    "Executing demonstration in 5 seconds. Get ready...\n",
    "```\n",
    "\n",
    "3. Once rosbags are collected, they will need to be exported to a CSV file for further processing by IntPrim. To do so, enter the training menu again and this time select \"Export data to csv from rosbag\" and specify the directory where the rosbags are stored. Note that the prefix on the file names must be the same as the experiment prefix defined in experiments.yaml (and what exporting to rosbag automatically defines).\n",
    "\n",
    "4. Once the CSV files are exported, open up the graphical dashboard to train a BIP model. To do so, press \"d\" on the main menu of the Interaction Application CLI:\n",
    "![](../media/dashboard.png)\n",
    "\n",
    "5. Press \"Select Demonstrations\", select all of the exported CSV files, and then press \"Open\". Select all of the files that appear in the window by clicking them, and then select \"Train Demonstration(s)\" followed by \"Export Primitive\". Lastly, we must determine the appropriate observation noise, so with the files still selected press \"Export Observation Noise\" and select \"Ok\".\n",
    "\n",
    "## **2.2 Testing**\n",
    "\n",
    "1. With a BIP model trained, it is a relatively straightforward process to test against pre-recorded or real-time data. Launch the Interaction Application CLI, select the experiment, and this time select the \"Test\" option.\n",
    "\n",
    "```\n",
    "Please select a scenario action:\n",
    "  [0] Export data to rosbag\n",
    "  [1] Do not export\n",
    "  [2] Test from rosbag\n",
    "  [3] Test from csv`\n",
    "```\n",
    "\n",
    "2. From here, we can test against real-time data by selecting one of the first two options, \"Export data to rosbag\" or \"Do not export\", in which case a rosbag will either be recorded for the test interaction or not.\n",
    "\n",
    "3. To test against pre-recorded rosbags, select \"Test from rosbag\" and enter the directory where the rosbags are stored.\n",
    "\n",
    "4. To test against exported CSV files, select \"Test from csv\" and enter the directory where the CSV files are stored."
   ]
  },
  {
   "cell_type": "code",
   "execution_count": null,
   "metadata": {},
   "outputs": [],
   "source": [
    "print(2 + 2)"
   ]
  },
  {
   "cell_type": "code",
   "execution_count": null,
   "metadata": {},
   "outputs": [],
   "source": []
  }
 ],
 "metadata": {
  "kernelspec": {
   "display_name": "Python 2",
   "language": "python",
   "name": "python2"
  },
  "language_info": {
   "codemirror_mode": {
    "name": "ipython",
    "version": 2
   },
   "file_extension": ".py",
   "mimetype": "text/x-python",
   "name": "python",
   "nbconvert_exporter": "python",
   "pygments_lexer": "ipython2",
   "version": "2.7.17"
  }
 },
 "nbformat": 4,
 "nbformat_minor": 2
}